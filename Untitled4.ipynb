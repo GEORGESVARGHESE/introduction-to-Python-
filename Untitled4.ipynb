{
  "nbformat": 4,
  "nbformat_minor": 0,
  "metadata": {
    "colab": {
      "provenance": [],
      "authorship_tag": "ABX9TyOVofnvP3MWrMDbzKRlb8Ly",
      "include_colab_link": true
    },
    "kernelspec": {
      "name": "python3",
      "display_name": "Python 3"
    },
    "language_info": {
      "name": "python"
    }
  },
  "cells": [
    {
      "cell_type": "markdown",
      "metadata": {
        "id": "view-in-github",
        "colab_type": "text"
      },
      "source": [
        "<a href=\"https://colab.research.google.com/github/GEORGESVARGHESE/introduction-to-Python-/blob/main/Untitled4.ipynb\" target=\"_parent\"><img src=\"https://colab.research.google.com/assets/colab-badge.svg\" alt=\"Open In Colab\"/></a>"
      ]
    },
    {
      "cell_type": "code",
      "execution_count": 6,
      "metadata": {
        "colab": {
          "base_uri": "https://localhost:8080/"
        },
        "id": "9JOprMfigpHd",
        "outputId": "022c5416-6131-42d4-b809-9c3c21be5570"
      },
      "outputs": [
        {
          "output_type": "stream",
          "name": "stdout",
          "text": [
            "Enter A Number -5\n",
            "5\n"
          ]
        }
      ],
      "source": [
        "x=(int(input(\"Enter A Number \")))\n",
        "if x<0:\n",
        "  print(x*-1)\n",
        "elif x>0:\n",
        "  print(x*1)"
      ]
    },
    {
      "cell_type": "code",
      "source": [
        "x=int(input(\"enter a number\"))\n",
        "if x>80:\n",
        "  print(\"A\")\n",
        "elif x>60 and x<=80:\n",
        "  print(\"B\")\n",
        "elif x>50 and x<=60:\n",
        "  print(\"c\")\n",
        "elif x>45 and x<=50:\n",
        "  print(\"D\")\n",
        "elif x>25 and x<=45:\n",
        "  print(\"E\")\n",
        "else:\n",
        "  print(\"f\")\n",
        "          "
      ],
      "metadata": {
        "colab": {
          "base_uri": "https://localhost:8080/"
        },
        "id": "N47-HMzKmqxg",
        "outputId": "979db736-797e-4bea-d7bd-6937651737d3"
      },
      "execution_count": 8,
      "outputs": [
        {
          "output_type": "stream",
          "name": "stdout",
          "text": [
            "enter a number60\n",
            "c\n"
          ]
        }
      ]
    },
    {
      "cell_type": "code",
      "source": [
        "x=int(input(\" enter the no.of classes \"))\n",
        "y=int(input(\"enter the no.of classes attended \"))\n",
        "z= y/x*100\n",
        "if z>=75:\n",
        "  print(\"u r allowed to write exam\")\n",
        "else:\n",
        "  print(\"u r not allowed to write exam\")\n"
      ],
      "metadata": {
        "colab": {
          "base_uri": "https://localhost:8080/"
        },
        "id": "WGfHL5eTpHlL",
        "outputId": "49e3788d-5890-4a96-f287-769fba086fa2"
      },
      "execution_count": 10,
      "outputs": [
        {
          "output_type": "stream",
          "name": "stdout",
          "text": [
            "enter the no.of classes50\n",
            "enter the no.of classes attended44\n",
            "u r allowed to write exam\n"
          ]
        }
      ]
    },
    {
      "cell_type": "code",
      "source": [
        "print(\"1.addition\")\n",
        "print(\"2.subtraction\")\n",
        "print(\"3.multiplication\")\n",
        "print(\"4.division\")\n",
        "print(\"5.modulus\")\n",
        "print(\"6.floor division\")\n",
        "print(\"7.exponent\")\n",
        "x=int(input(\"select a number\"))\n",
        "m1=int(input(\"enter a number\"))\n",
        "m2=int(input(\"enter a number\"))\n",
        "if x==1:\n",
        "  print(m1+m2)\n",
        "if x==2:\n",
        "  print(m1-m2)\n",
        "if x==3:\n",
        "  print(m1*m2)\n",
        "if x==4:\n",
        "  print(m1/m2)\n",
        "if x==5:\n",
        "  print(m1%m2)   \n",
        "if x==6:\n",
        "  print(m1//m2)\n",
        "if x==7:\n",
        "  print(m1**m2)       \n",
        "else:\n",
        "  print(\"thank you\")\n",
        "  "
      ],
      "metadata": {
        "colab": {
          "base_uri": "https://localhost:8080/"
        },
        "id": "kobqlNhLpWpi",
        "outputId": "6814b570-9570-494e-c4e5-332f324c0e61"
      },
      "execution_count": 16,
      "outputs": [
        {
          "output_type": "stream",
          "name": "stdout",
          "text": [
            "1.addition\n",
            "2.subtraction\n",
            "3.multiplication\n",
            "4.division\n",
            "5.modulus\n",
            "6.floor division\n",
            "7.exponent\n",
            "select a number87\n",
            "enter a number97\n",
            "enter a number35\n",
            "thank you\n"
          ]
        }
      ]
    },
    {
      "cell_type": "code",
      "source": [
        "m1=int(input('Enter marks of first subject '))\n",
        "m2=int(input('Enter marks of second subject '))\n",
        "m3=int(input('Enter marks of third subject '))\n",
        "m4=int(input('Enter marks of fourth subject '))\n",
        "m5=int(input('Enter marks of fifth subject '))\n",
        "print('Least marks:',min(m1,m2,m3,m4,m5))\n",
        "print('Maximum marks:',max(m1,m2,m3,m4,m5))\n"
      ],
      "metadata": {
        "colab": {
          "base_uri": "https://localhost:8080/"
        },
        "id": "AdQcgbb6vbuh",
        "outputId": "a3f72862-c6ce-44c7-9528-8c0a276b0486"
      },
      "execution_count": 17,
      "outputs": [
        {
          "output_type": "stream",
          "name": "stdout",
          "text": [
            "Enter marks of first subject 12\n",
            "Enter marks of second subject 25\n",
            "Enter marks of third subject 35\n",
            "Enter marks of fourth subject 15\n",
            "Enter marks of fifth subject 31\n",
            "Least marks: 12\n",
            "Maximum marks: 35\n"
          ]
        }
      ]
    },
    {
      "cell_type": "code",
      "source": [],
      "metadata": {
        "id": "-pkmQm6Z3K8-"
      },
      "execution_count": null,
      "outputs": []
    }
  ]
}