{
  "nbformat": 4,
  "nbformat_minor": 0,
  "metadata": {
    "colab": {
      "provenance": [],
      "authorship_tag": "ABX9TyMqFRip9OuJ0z9D5VWkg849",
      "include_colab_link": true
    },
    "kernelspec": {
      "name": "python3",
      "display_name": "Python 3"
    },
    "language_info": {
      "name": "python"
    }
  },
  "cells": [
    {
      "cell_type": "markdown",
      "metadata": {
        "id": "view-in-github",
        "colab_type": "text"
      },
      "source": [
        "<a href=\"https://colab.research.google.com/github/GEORGESVARGHESE/introduction-to-Python-/blob/main/1st%20class.ipynb\" target=\"_parent\"><img src=\"https://colab.research.google.com/assets/colab-badge.svg\" alt=\"Open In Colab\"/></a>"
      ]
    },
    {
      "cell_type": "code",
      "execution_count": null,
      "metadata": {
        "colab": {
          "base_uri": "https://localhost:8080/"
        },
        "id": "KPLIU4UVmQTc",
        "outputId": "d7a33ffb-cd18-4bdf-9eb2-e9471fca4710"
      },
      "outputs": [
        {
          "output_type": "stream",
          "name": "stdout",
          "text": [
            " travel source kakanad\n",
            " travel destination aluva\n",
            " number of passengers 2\n",
            "kakanad to aluva 2\n"
          ]
        }
      ],
      "source": [
        "x=input(\" travel source \")\n",
        "y=input(\" travel destination \")\n",
        "z=int(input(\" number of passengers \"))\n",
        "print(x,\"to\",y,z)"
      ]
    },
    {
      "cell_type": "markdown",
      "source": [],
      "metadata": {
        "id": "d63wUwEvqrv1"
      }
    },
    {
      "cell_type": "code",
      "source": [
        "x=int(input(\" total ticket fair \"))\n",
        "y=int(input(\" number of passengers \"))\n",
        "fair=print(\"fair per person is \",x/y)"
      ],
      "metadata": {
        "colab": {
          "base_uri": "https://localhost:8080/"
        },
        "id": "ydQ5dJbcoGX6",
        "outputId": "59fb9a5a-99d8-475c-b8ae-0fe6e12c7685"
      },
      "execution_count": null,
      "outputs": [
        {
          "output_type": "stream",
          "name": "stdout",
          "text": [
            " total ticket fair 1000\n",
            " number of passengers 2\n",
            "fair per person is  500.0\n"
          ]
        }
      ]
    },
    {
      "cell_type": "code",
      "source": [
        "x=input(\" passangers name \")\n",
        "y=int(input(\" ticket fair \"))\n",
        "print(x,y)"
      ],
      "metadata": {
        "colab": {
          "base_uri": "https://localhost:8080/"
        },
        "id": "6LSu_IL1qutP",
        "outputId": "0eed3f4f-6861-4eeb-86cb-e2cb756258be"
      },
      "execution_count": null,
      "outputs": [
        {
          "output_type": "stream",
          "name": "stdout",
          "text": [
            " passangers name adarsh\n",
            " ticket fair 1000\n",
            "adarsh 1000\n"
          ]
        }
      ]
    },
    {
      "cell_type": "code",
      "source": [
        "x=int(input(\" ticket fair \"))\n",
        "if x > 10000:\n",
        "  print(\" eligible for discout \")"
      ],
      "metadata": {
        "colab": {
          "base_uri": "https://localhost:8080/"
        },
        "id": "e4R4aqGcrGOV",
        "outputId": "e6639e88-29c2-4f78-f88a-7270db59204b"
      },
      "execution_count": null,
      "outputs": [
        {
          "output_type": "stream",
          "name": "stdout",
          "text": [
            " ticket fair 12000\n",
            " eligible for discout \n"
          ]
        }
      ]
    },
    {
      "cell_type": "code",
      "source": [
        "x=int(input(\" ticket fair \"))\n",
        "if x > 15000:\n",
        "  print(\" eligible for 20% discount \")\n",
        "else:\n",
        "  print(' eligible for 10% discount ')"
      ],
      "metadata": {
        "colab": {
          "base_uri": "https://localhost:8080/"
        },
        "id": "SGn-XsZGsO3w",
        "outputId": "264c8f91-c244-42ed-8511-5581ab1b3627"
      },
      "execution_count": null,
      "outputs": [
        {
          "output_type": "stream",
          "name": "stdout",
          "text": [
            " ticket fair 18000\n",
            " eligible for 20% discount \n"
          ]
        }
      ]
    },
    {
      "cell_type": "code",
      "source": [
        "x=int(input(\"Total TIcket Fare \"))\n",
        "if x>15000:\n",
        "  print(\"Eligible for 20% discount\")\n",
        "  print(\"discounted fair\",x*20/100)\n",
        "else:\n",
        "  print(\"Eligible for 10% discount\")\n",
        "  print(x*10/100)\n"
      ],
      "metadata": {
        "id": "xyXVGps6s6D1",
        "colab": {
          "base_uri": "https://localhost:8080/"
        },
        "outputId": "9cdbcbb5-6ea3-4a07-fa5c-c6eca2649422"
      },
      "execution_count": 15,
      "outputs": [
        {
          "output_type": "stream",
          "name": "stdout",
          "text": [
            "Total TIcket Fare 120000\n",
            "Eligible for 20% discount\n",
            "discounted fair 24000.0\n"
          ]
        }
      ]
    },
    {
      "cell_type": "code",
      "source": [
        "x=int(input(\"Enter A Number \"))\n",
        "if x>0:\n",
        "  print(\"positive\")\n",
        "elif x<0:\n",
        "  print(\"negative\")\n"
      ],
      "metadata": {
        "colab": {
          "base_uri": "https://localhost:8080/"
        },
        "id": "a9Rs2pbNt2ii",
        "outputId": "f0e79c9c-1611-488e-b087-c5d0ee7892d9"
      },
      "execution_count": 22,
      "outputs": [
        {
          "output_type": "stream",
          "name": "stdout",
          "text": [
            "Enter A Number 4\n",
            "positive\n"
          ]
        }
      ]
    },
    {
      "cell_type": "code",
      "source": [
        "x=int(input(\"age of passanger\"))\n",
        "if x<5:\n",
        "  print(\"infant\")\n",
        "elif x>5 and x<13:\n",
        "  print(\"kid\")\n",
        "elif x>13 and x<17:\n",
        "  print(\"teenager\")\n",
        "else:\n",
        "  print(\"adult\")"
      ],
      "metadata": {
        "colab": {
          "base_uri": "https://localhost:8080/"
        },
        "id": "_NqElDSBvfQI",
        "outputId": "eb8ae9be-1148-4d00-a527-24fa3cfe4f31"
      },
      "execution_count": 32,
      "outputs": [
        {
          "output_type": "stream",
          "name": "stdout",
          "text": [
            "age of passanger12\n",
            "kid\n"
          ]
        }
      ]
    },
    {
      "cell_type": "code",
      "source": [
        "x=input(\" passangers initial \")\n",
        "if x==\"a\":\n",
        "  print(\"vowel\")\n",
        "elif x==\"e\":\n",
        "  print(\"vowel\")\n",
        "elif x==\"i\":\n",
        "  print(\"vowel\")\n",
        "elif x==\"o\":\n",
        "  print(\"vowel\")\n",
        "elif x==\"u\":\n",
        "  print(\"vowel\")\n",
        "else:\n",
        "  print(\"not a vowel\")"
      ],
      "metadata": {
        "colab": {
          "base_uri": "https://localhost:8080/"
        },
        "id": "hjOLXBwXxqty",
        "outputId": "3c85975b-cd79-4675-d767-68220e75ebe2"
      },
      "execution_count": 30,
      "outputs": [
        {
          "output_type": "stream",
          "name": "stdout",
          "text": [
            " passangers initial t\n",
            "not a vowel\n"
          ]
        }
      ]
    },
    {
      "cell_type": "code",
      "source": [
        "x=input(\"enter your name\")\n",
        "for a in x:\n",
        "  print(a)"
      ],
      "metadata": {
        "colab": {
          "base_uri": "https://localhost:8080/"
        },
        "id": "4UAYBuDlzigE",
        "outputId": "4052ab68-7336-4e20-9f6e-2c51aa728e44"
      },
      "execution_count": 33,
      "outputs": [
        {
          "output_type": "stream",
          "name": "stdout",
          "text": [
            "enter your namegeorge\n",
            "g\n",
            "e\n",
            "o\n",
            "r\n",
            "g\n",
            "e\n"
          ]
        }
      ]
    },
    {
      "cell_type": "code",
      "source": [
        "x=int(input(\"Enter Starting Value \"))\n",
        "y=int(input(\"Enter Ending Value \"))\n",
        "z=range(x,y) \n",
        "for a in z:\n",
        "  if a%2!=0 :\n",
        "    print(a)\n",
        "  \n"
      ],
      "metadata": {
        "colab": {
          "base_uri": "https://localhost:8080/"
        },
        "id": "TEi6Gv042KSq",
        "outputId": "54996f2a-4771-4f3a-ff61-14cf7f1fdef0"
      },
      "execution_count": 36,
      "outputs": [
        {
          "output_type": "stream",
          "name": "stdout",
          "text": [
            "Enter Starting Value 44\n",
            "Enter Ending Value 88\n",
            "45\n",
            "47\n",
            "49\n",
            "51\n",
            "53\n",
            "55\n",
            "57\n",
            "59\n",
            "61\n",
            "63\n",
            "65\n",
            "67\n",
            "69\n",
            "71\n",
            "73\n",
            "75\n",
            "77\n",
            "79\n",
            "81\n",
            "83\n",
            "85\n",
            "87\n"
          ]
        }
      ]
    },
    {
      "cell_type": "code",
      "source": [
        "6\n",
        "x=0\n",
        "for i in range(1,11):\n",
        "  x=x+i\n",
        "  print(i,x)"
      ],
      "metadata": {
        "colab": {
          "base_uri": "https://localhost:8080/"
        },
        "id": "0sCne6YZ9QUo",
        "outputId": "2dbd043d-c77d-4bf7-8d30-595fcf54d87d"
      },
      "execution_count": 38,
      "outputs": [
        {
          "output_type": "stream",
          "name": "stdout",
          "text": [
            "1 1\n",
            "2 3\n",
            "3 6\n",
            "4 10\n",
            "5 15\n",
            "6 21\n",
            "7 28\n",
            "8 36\n",
            "9 45\n",
            "10 55\n"
          ]
        }
      ]
    },
    {
      "cell_type": "code",
      "source": [],
      "metadata": {
        "id": "Bu9cbTIM9TOt"
      },
      "execution_count": null,
      "outputs": []
    }
  ]
}