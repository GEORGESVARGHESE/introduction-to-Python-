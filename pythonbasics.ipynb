{
  "nbformat": 4,
  "nbformat_minor": 0,
  "metadata": {
    "colab": {
      "provenance": [],
      "authorship_tag": "ABX9TyMYwhfBneWPX0omLM9sxZm/",
      "include_colab_link": true
    },
    "kernelspec": {
      "name": "python3",
      "display_name": "Python 3"
    },
    "language_info": {
      "name": "python"
    }
  },
  "cells": [
    {
      "cell_type": "markdown",
      "metadata": {
        "id": "view-in-github",
        "colab_type": "text"
      },
      "source": [
        "<a href=\"https://colab.research.google.com/github/GEORGESVARGHESE/introduction-to-Python-/blob/main/pythonbasics.ipynb\" target=\"_parent\"><img src=\"https://colab.research.google.com/assets/colab-badge.svg\" alt=\"Open In Colab\"/></a>"
      ]
    },
    {
      "cell_type": "code",
      "execution_count": 3,
      "metadata": {
        "id": "38bPEAJhnoUo",
        "colab": {
          "base_uri": "https://localhost:8080/"
        },
        "outputId": "2aaa99a4-acdc-4028-e083-6d2e3da1bf25"
      },
      "outputs": [
        {
          "output_type": "stream",
          "name": "stdout",
          "text": [
            "64756786\n",
            "12851357.2\n",
            "19202035.8\n"
          ]
        }
      ],
      "source": [
        "salary=int(input())\n",
        "if salary < 250000:\n",
        "  print(\"not taxable\")\n",
        "if  2500000< salary <5000000:\n",
        "  print((salary-250000)*10/100)\n",
        "if 500000 < salary >750000:\n",
        "  print((salary-500000)*20/100)\n",
        "if  salary >750000:\n",
        "  print((salary-750000)*30/100)"
      ]
    },
    {
      "cell_type": "code",
      "source": [
        "salary=int(input())\n",
        "if salary < 250000:\n",
        "  print(\"not taxable\")\n",
        "if  2500000< salary <5000000:\n",
        "  print((salary-250000)*10/100)\n",
        "if 500000 < salary >750000:\n",
        "  print((salary-500000)*20/100)\n",
        "if  salary >750000:\n",
        "  print((salary-750000)*30/100)"
      ],
      "metadata": {
        "colab": {
          "base_uri": "https://localhost:8080/"
        },
        "id": "wMnn6XEP0xwj",
        "outputId": "cf19c568-a715-40a0-e9eb-f88cc358dece"
      },
      "execution_count": 4,
      "outputs": [
        {
          "output_type": "stream",
          "name": "stdout",
          "text": [
            "65893085679\n",
            "13178517135.8\n",
            "19767700703.7\n"
          ]
        }
      ]
    }
  ]
}