{
  "nbformat": 4,
  "nbformat_minor": 0,
  "metadata": {
    "colab": {
      "provenance": [],
      "authorship_tag": "ABX9TyNjV2E24uL8s/Np22u8sqMh",
      "include_colab_link": true
    },
    "kernelspec": {
      "name": "python3",
      "display_name": "Python 3"
    },
    "language_info": {
      "name": "python"
    }
  },
  "cells": [
    {
      "cell_type": "markdown",
      "metadata": {
        "id": "view-in-github",
        "colab_type": "text"
      },
      "source": [
        "<a href=\"https://colab.research.google.com/github/GEORGESVARGHESE/introduction-to-Python-/blob/main/Untitled0.ipynb\" target=\"_parent\"><img src=\"https://colab.research.google.com/assets/colab-badge.svg\" alt=\"Open In Colab\"/></a>"
      ]
    },
    {
      "cell_type": "code",
      "execution_count": 7,
      "metadata": {
        "id": "M0G6ya6qXl3e"
      },
      "outputs": [],
      "source": [
        "x=[1,2,3,4,5,6]\n"
      ]
    },
    {
      "cell_type": "code",
      "source": [
        "print(x)"
      ],
      "metadata": {
        "colab": {
          "base_uri": "https://localhost:8080/"
        },
        "id": "l1nPqx-RYxZZ",
        "outputId": "22807760-5dd7-40e1-f56a-a9e58eee09bc"
      },
      "execution_count": 8,
      "outputs": [
        {
          "output_type": "stream",
          "name": "stdout",
          "text": [
            "[1, 2, 3, 4, 5, 6]\n"
          ]
        }
      ]
    },
    {
      "cell_type": "code",
      "source": [
        "type(x)"
      ],
      "metadata": {
        "colab": {
          "base_uri": "https://localhost:8080/"
        },
        "id": "LlHgcpCTY7Bg",
        "outputId": "340560f1-7d95-4f88-d8f0-8c3975326de2"
      },
      "execution_count": 9,
      "outputs": [
        {
          "output_type": "execute_result",
          "data": {
            "text/plain": [
              "list"
            ]
          },
          "metadata": {},
          "execution_count": 9
        }
      ]
    },
    {
      "cell_type": "code",
      "source": [
        "x[0]"
      ],
      "metadata": {
        "colab": {
          "base_uri": "https://localhost:8080/"
        },
        "id": "UwmMuDjuY-04",
        "outputId": "b1d31513-1dd4-44b9-c392-ad801c97b82d"
      },
      "execution_count": 10,
      "outputs": [
        {
          "output_type": "execute_result",
          "data": {
            "text/plain": [
              "1"
            ]
          },
          "metadata": {},
          "execution_count": 10
        }
      ]
    },
    {
      "cell_type": "code",
      "source": [
        "x[1]"
      ],
      "metadata": {
        "colab": {
          "base_uri": "https://localhost:8080/"
        },
        "id": "vLWvu6NjZ8Yo",
        "outputId": "fe358cde-dafc-4b8d-fd0d-d27034e673e4"
      },
      "execution_count": 11,
      "outputs": [
        {
          "output_type": "execute_result",
          "data": {
            "text/plain": [
              "2"
            ]
          },
          "metadata": {},
          "execution_count": 11
        }
      ]
    },
    {
      "cell_type": "code",
      "source": [
        "x[3]"
      ],
      "metadata": {
        "colab": {
          "base_uri": "https://localhost:8080/"
        },
        "id": "j4b1yL54Z_WA",
        "outputId": "5b21507f-ade0-4569-ef3d-9dc79cf4b817"
      },
      "execution_count": 12,
      "outputs": [
        {
          "output_type": "execute_result",
          "data": {
            "text/plain": [
              "4"
            ]
          },
          "metadata": {},
          "execution_count": 12
        }
      ]
    },
    {
      "cell_type": "code",
      "source": [
        "x=[10,20,30,40]\n",
        "y=[35,46,22,96]\n",
        "print((x[0]*y[0])+(x[1]*y[1])+(x[2]*y[2])+(x[3]*y[3]))"
      ],
      "metadata": {
        "colab": {
          "base_uri": "https://localhost:8080/"
        },
        "id": "m8buBJeuajef",
        "outputId": "3597977f-4e1f-49ac-b59c-9b9bb6362da7"
      },
      "execution_count": 14,
      "outputs": [
        {
          "output_type": "stream",
          "name": "stdout",
          "text": [
            "5770\n"
          ]
        }
      ]
    },
    {
      "cell_type": "code",
      "source": [
        "x=[\"kerala\",\"tamilnadu\"]\n",
        "y=[\"chennai\",\"trivandrum\"]\n",
        "print(\"capital of\", x[0] ,\"is\", y[1])\n",
        "print(\"capital of\", x[1] ,\"is\",y[0])\n"
      ],
      "metadata": {
        "colab": {
          "base_uri": "https://localhost:8080/"
        },
        "id": "XOPXPtbqba_q",
        "outputId": "f64774d4-6e08-49df-abee-d050a6cb747c"
      },
      "execution_count": 20,
      "outputs": [
        {
          "output_type": "stream",
          "name": "stdout",
          "text": [
            "capital of kerala is trivandrum\n",
            "capital of tamilnadu is chennai\n"
          ]
        }
      ]
    },
    {
      "cell_type": "code",
      "source": [
        "x=[10,25,26,36,39,55]\n"
      ],
      "metadata": {
        "id": "QUU9aIj3d82Z"
      },
      "execution_count": 21,
      "outputs": []
    },
    {
      "cell_type": "code",
      "source": [
        "x[-1]"
      ],
      "metadata": {
        "colab": {
          "base_uri": "https://localhost:8080/"
        },
        "id": "ZtFqPppqf4ac",
        "outputId": "ae5d8a94-e746-4c23-e428-df74c346733e"
      },
      "execution_count": 22,
      "outputs": [
        {
          "output_type": "execute_result",
          "data": {
            "text/plain": [
              "55"
            ]
          },
          "metadata": {},
          "execution_count": 22
        }
      ]
    },
    {
      "cell_type": "code",
      "source": [
        "x[-2]"
      ],
      "metadata": {
        "colab": {
          "base_uri": "https://localhost:8080/"
        },
        "id": "5ooYVlIMf7Lh",
        "outputId": "71af1dde-f014-4d01-8b6c-495bbc67db3b"
      },
      "execution_count": 24,
      "outputs": [
        {
          "output_type": "execute_result",
          "data": {
            "text/plain": [
              "39"
            ]
          },
          "metadata": {},
          "execution_count": 24
        }
      ]
    },
    {
      "cell_type": "code",
      "source": [
        "x[-3]"
      ],
      "metadata": {
        "colab": {
          "base_uri": "https://localhost:8080/"
        },
        "id": "SxpLYL07gI0x",
        "outputId": "f2d8a930-98c4-42b6-d4e0-e199dba19b95"
      },
      "execution_count": 25,
      "outputs": [
        {
          "output_type": "execute_result",
          "data": {
            "text/plain": [
              "36"
            ]
          },
          "metadata": {},
          "execution_count": 25
        }
      ]
    },
    {
      "cell_type": "code",
      "source": [
        "print(x[-3]*x[-5])"
      ],
      "metadata": {
        "colab": {
          "base_uri": "https://localhost:8080/"
        },
        "id": "Nwuy4f1VgUD7",
        "outputId": "77784a4c-0da3-451c-e1a3-e81eeb38c2c6"
      },
      "execution_count": 27,
      "outputs": [
        {
          "output_type": "stream",
          "name": "stdout",
          "text": [
            "900\n"
          ]
        }
      ]
    },
    {
      "cell_type": "code",
      "source": [
        "if x[3]==10:\n",
        "  print(\"x is 10\")\n",
        "else:\n",
        "  print(\"x is not 10\")"
      ],
      "metadata": {
        "colab": {
          "base_uri": "https://localhost:8080/"
        },
        "id": "Am_Xb5zwhQWh",
        "outputId": "3362917c-7ac4-47f3-a45d-b1d3afa57ea2"
      },
      "execution_count": 29,
      "outputs": [
        {
          "output_type": "stream",
          "name": "stdout",
          "text": [
            "x is not 10\n"
          ]
        }
      ]
    },
    {
      "cell_type": "code",
      "source": [
        "if x[-1]==55:\n",
        "  print(\"last element is 55\")\n",
        "else:\n",
        "  print(\"last element is not 55\")"
      ],
      "metadata": {
        "colab": {
          "base_uri": "https://localhost:8080/"
        },
        "id": "kzP5qyplilBu",
        "outputId": "042c315b-74b9-4c21-b5b9-f8fdecc6bf8e"
      },
      "execution_count": 30,
      "outputs": [
        {
          "output_type": "stream",
          "name": "stdout",
          "text": [
            "last element is 55\n"
          ]
        }
      ]
    },
    {
      "cell_type": "code",
      "source": [
        "x=\"george\"\n",
        "x[-1]"
      ],
      "metadata": {
        "colab": {
          "base_uri": "https://localhost:8080/",
          "height": 35
        },
        "id": "JZrSJZ2LjfLQ",
        "outputId": "ee7ffd6e-20c9-4145-b219-33058f26110b"
      },
      "execution_count": 31,
      "outputs": [
        {
          "output_type": "execute_result",
          "data": {
            "text/plain": [
              "'e'"
            ],
            "application/vnd.google.colaboratory.intrinsic+json": {
              "type": "string"
            }
          },
          "metadata": {},
          "execution_count": 31
        }
      ]
    },
    {
      "cell_type": "code",
      "source": [
        "if x[0]==x[-1]:\n",
        "  print(\"1st and last letter is same\")\n",
        "else: \n",
        "  print(\"1st and last letter is not same\") \n",
        "  "
      ],
      "metadata": {
        "colab": {
          "base_uri": "https://localhost:8080/"
        },
        "id": "P6r87MOKkDJM",
        "outputId": "5fac09c5-a430-47de-c8fc-a64ab7517552"
      },
      "execution_count": 32,
      "outputs": [
        {
          "output_type": "stream",
          "name": "stdout",
          "text": [
            "1st and last letter is not same\n"
          ]
        }
      ]
    },
    {
      "cell_type": "code",
      "source": [
        "x=[10,25,26,36,39,55]\n",
        "for a in x:\n",
        "  print(a)"
      ],
      "metadata": {
        "colab": {
          "base_uri": "https://localhost:8080/"
        },
        "id": "hcG0_KpalXO_",
        "outputId": "70022ceb-9208-4f01-fbe5-dfbdf2a5f16e"
      },
      "execution_count": 35,
      "outputs": [
        {
          "output_type": "stream",
          "name": "stdout",
          "text": [
            "10\n",
            "25\n",
            "26\n",
            "36\n",
            "39\n",
            "55\n"
          ]
        }
      ]
    },
    {
      "cell_type": "code",
      "source": [
        "x=\"george\"\n",
        "for a in x:\n",
        "  print(a)"
      ],
      "metadata": {
        "colab": {
          "base_uri": "https://localhost:8080/"
        },
        "id": "5664hS9kmw1Z",
        "outputId": "223aef8e-8419-494f-9fb5-f5c618d6a8d0"
      },
      "execution_count": 37,
      "outputs": [
        {
          "output_type": "stream",
          "name": "stdout",
          "text": [
            "g\n",
            "e\n",
            "o\n",
            "r\n",
            "g\n",
            "e\n"
          ]
        }
      ]
    },
    {
      "cell_type": "code",
      "source": [
        "x=\"george\"\n",
        "for a  in x:\n",
        "  if x==\"i\":\n",
        "     print(\"your name has i\")\n",
        "  else:\n",
        "    print(\"your name has no i\")"
      ],
      "metadata": {
        "colab": {
          "base_uri": "https://localhost:8080/"
        },
        "id": "WBDHFBSBnC00",
        "outputId": "17d5bc03-42a3-4d57-b3ff-8497bd14835a"
      },
      "execution_count": 46,
      "outputs": [
        {
          "output_type": "stream",
          "name": "stdout",
          "text": [
            "your name has no i\n",
            "your name has no i\n",
            "your name has no i\n",
            "your name has no i\n",
            "your name has no i\n",
            "your name has no i\n"
          ]
        }
      ]
    },
    {
      "cell_type": "code",
      "source": [
        "x=[10,25,26,36,39,55]\n",
        "k=0\n",
        "for a in x:\n",
        "  k=k+a\n",
        "print(k)"
      ],
      "metadata": {
        "colab": {
          "base_uri": "https://localhost:8080/"
        },
        "id": "-LCurrbupbIK",
        "outputId": "183a3ef5-55c0-4fa2-d47a-3dd0ead11d32"
      },
      "execution_count": 60,
      "outputs": [
        {
          "output_type": "stream",
          "name": "stdout",
          "text": [
            "191\n"
          ]
        }
      ]
    },
    {
      "cell_type": "code",
      "source": [],
      "metadata": {
        "id": "dqnRgsnesVgv"
      },
      "execution_count": null,
      "outputs": []
    }
  ]
}