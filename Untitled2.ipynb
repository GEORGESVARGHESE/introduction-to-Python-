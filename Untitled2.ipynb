{
  "nbformat": 4,
  "nbformat_minor": 0,
  "metadata": {
    "colab": {
      "provenance": [],
      "collapsed_sections": [],
      "authorship_tag": "ABX9TyModKPctQfMRNodSi3T4nUs",
      "include_colab_link": true
    },
    "kernelspec": {
      "name": "python3",
      "display_name": "Python 3"
    },
    "language_info": {
      "name": "python"
    }
  },
  "cells": [
    {
      "cell_type": "markdown",
      "metadata": {
        "id": "view-in-github",
        "colab_type": "text"
      },
      "source": [
        "<a href=\"https://colab.research.google.com/github/GEORGESVARGHESE/introduction-to-Python-/blob/main/Untitled2.ipynb\" target=\"_parent\"><img src=\"https://colab.research.google.com/assets/colab-badge.svg\" alt=\"Open In Colab\"/></a>"
      ]
    },
    {
      "cell_type": "code",
      "execution_count": null,
      "metadata": {
        "colab": {
          "base_uri": "https://localhost:8080/"
        },
        "id": "5VBgGueamJmL",
        "outputId": "30bbd43d-f289-4fa5-fbd5-655c0096efc2"
      },
      "outputs": [
        {
          "output_type": "stream",
          "name": "stdout",
          "text": [
            "Enter Phone Number 634536\n",
            "Enter your name george\n",
            "634536\n",
            "george\n"
          ]
        }
      ],
      "source": [
        "x=int(input(\"Enter Phone Number \"))\n",
        "y=input(\"Enter your name \")\n",
        "print(x)\n",
        "print(y)"
      ]
    },
    {
      "cell_type": "code",
      "source": [
        "x=int(input(\"Enter DBMS Mark \"))\n",
        "y=int(input(\"Enter CRA Mark \"))\n",
        "z=int(input(\"Enter FA Mark  \"))\n",
        "total=x+y+z\n",
        "print(total)\n"
      ],
      "metadata": {
        "colab": {
          "base_uri": "https://localhost:8080/"
        },
        "id": "r4d4-uUTmOlm",
        "outputId": "f5ea6d4e-147a-4c29-e96a-78a87dc145ec"
      },
      "execution_count": null,
      "outputs": [
        {
          "output_type": "stream",
          "name": "stdout",
          "text": [
            "Enter DBMS Mark 20\n",
            "Enter CRA Mark 45\n",
            "Enter FA Mark  65\n",
            "130\n"
          ]
        }
      ]
    },
    {
      "cell_type": "code",
      "source": [
        "x=int(input(\"Enter DBMS Mark \"))\n",
        "y=int(input(\"Enter CRA Mark \"))\n",
        "z=int(input(\"Enter FA Mark  \"))\n",
        "total=x+y+z\n",
        "print(total)\n",
        "mean=total/3\n",
        "print(mean)"
      ],
      "metadata": {
        "colab": {
          "base_uri": "https://localhost:8080/"
        },
        "id": "iqAsJcMgmY7C",
        "outputId": "a64c595e-2616-423c-e42f-79621ea249cf"
      },
      "execution_count": null,
      "outputs": [
        {
          "output_type": "stream",
          "name": "stdout",
          "text": [
            "Enter DBMS Mark 10\n",
            "Enter CRA Mark 10\n",
            "Enter FA Mark  10\n",
            "30\n",
            "10.0\n"
          ]
        }
      ]
    },
    {
      "cell_type": "code",
      "source": [
        "N1=int(input(\"Enter any number \"))\n",
        "N2=int(input(\"Enter any number \"))\n",
        "N3=int(input(\"Enter any number \"))\n",
        "if N1>N2 and N1>N3:\n",
        "  print(N1,\"is greater\")\n",
        "if N2>N1 and N2>N3:\n",
        "  print(N2,\"is greater\")\n",
        "if N3>N1 and N3>N2:\n",
        "  print(N3,\"is greater\")"
      ],
      "metadata": {
        "colab": {
          "base_uri": "https://localhost:8080/"
        },
        "id": "NefomfpYnXY1",
        "outputId": "37a1fe9e-2f6a-402f-bd19-bbc25f60b27e"
      },
      "execution_count": null,
      "outputs": [
        {
          "output_type": "stream",
          "name": "stdout",
          "text": [
            "Enter any number 14\n",
            "Enter any number 19\n",
            "Enter any number 20\n",
            "20 is greater\n"
          ]
        }
      ]
    },
    {
      "cell_type": "code",
      "source": [
        "y=int(input(\"Enter Any Number \"))\n",
        "if y%2 ==0 :\n",
        "  print(y,\"is even\")\n",
        "else :\n",
        "  print(y,\"is odd\")\n",
        "  "
      ],
      "metadata": {
        "colab": {
          "base_uri": "https://localhost:8080/"
        },
        "id": "EOA0s7YItlnB",
        "outputId": "5357080e-50b9-4413-a1ef-3c18a72bdeed"
      },
      "execution_count": 13,
      "outputs": [
        {
          "output_type": "stream",
          "name": "stdout",
          "text": [
            "Enter Any Number 67\n",
            "67 is odd\n"
          ]
        }
      ]
    },
    {
      "cell_type": "code",
      "source": [
        "x=range(10)\n",
        "for a in x:\n",
        "  if a%2 ==0 :\n",
        "    print(x,\"is even\")\n",
        "  else:\n",
        "    print(x,\"is odd\")"
      ],
      "metadata": {
        "colab": {
          "base_uri": "https://localhost:8080/"
        },
        "id": "1_RqACA-vrNf",
        "outputId": "6542aad1-e1ea-4df8-f381-341ce7a69c1f"
      },
      "execution_count": 20,
      "outputs": [
        {
          "output_type": "stream",
          "name": "stdout",
          "text": [
            "range(0, 10) is even\n",
            "range(0, 10) is odd\n",
            "range(0, 10) is even\n",
            "range(0, 10) is odd\n",
            "range(0, 10) is even\n",
            "range(0, 10) is odd\n",
            "range(0, 10) is even\n",
            "range(0, 10) is odd\n",
            "range(0, 10) is even\n",
            "range(0, 10) is odd\n"
          ]
        }
      ]
    },
    {
      "cell_type": "code",
      "source": [
        "x=int(input(\"Enter Starting Value \"))\n",
        "y=int(input(\"Enter Ending Value \"))\n",
        "z=range(x,y) \n",
        "for a in z:\n",
        "  if a%2 ==0 :\n",
        "    print(z,\"is even\")\n",
        "  else:\n",
        "    print(z,\"is odd\")\n"
      ],
      "metadata": {
        "colab": {
          "base_uri": "https://localhost:8080/"
        },
        "id": "5wZXSN5SwkOd",
        "outputId": "b7b3c82c-9c1a-4984-d40a-0a6f1861de9e"
      },
      "execution_count": 21,
      "outputs": [
        {
          "output_type": "stream",
          "name": "stdout",
          "text": [
            "Enter Starting Value 0\n",
            "Enter Ending Value 12\n",
            "range(0, 12) is even\n",
            "range(0, 12) is odd\n",
            "range(0, 12) is even\n",
            "range(0, 12) is odd\n",
            "range(0, 12) is even\n",
            "range(0, 12) is odd\n",
            "range(0, 12) is even\n",
            "range(0, 12) is odd\n",
            "range(0, 12) is even\n",
            "range(0, 12) is odd\n",
            "range(0, 12) is even\n",
            "range(0, 12) is odd\n"
          ]
        }
      ]
    },
    {
      "cell_type": "code",
      "source": [
        "x=int(input(\"Enter Starting Value \"))\n",
        "y=int(input(\"Enter Ending Value \"))\n",
        "z=range(x,y) \n",
        "for a in z:\n",
        "  if a%2 ==0 :\n",
        "    print(a+2,\"is even\")"
      ],
      "metadata": {
        "colab": {
          "base_uri": "https://localhost:8080/"
        },
        "id": "jr_-KOdYy35C",
        "outputId": "d647bac7-ced7-4f61-9563-16dd665e4b47"
      },
      "execution_count": 22,
      "outputs": [
        {
          "output_type": "stream",
          "name": "stdout",
          "text": [
            "Enter Starting Value 1\n",
            "Enter Ending Value 10\n",
            "4 is even\n",
            "6 is even\n",
            "8 is even\n",
            "10 is even\n"
          ]
        }
      ]
    },
    {
      "cell_type": "code",
      "source": [
        "x=int(input(\"Enter Starting Value \"))\n",
        "y=int(input(\"Enter Ending Value \"))\n",
        "z=range(x,y) \n",
        "for a in z:\n",
        "  if a%2 ==0 :\n",
        "    print(a+1,\"is odd\")"
      ],
      "metadata": {
        "colab": {
          "base_uri": "https://localhost:8080/"
        },
        "id": "TSueAN_402Tj",
        "outputId": "f91b68d0-a729-4392-eb35-2189aca39c81"
      },
      "execution_count": 23,
      "outputs": [
        {
          "output_type": "stream",
          "name": "stdout",
          "text": [
            "Enter Starting Value 1\n",
            "Enter Ending Value 10\n",
            "3 is odd\n",
            "5 is odd\n",
            "7 is odd\n",
            "9 is odd\n"
          ]
        }
      ]
    },
    {
      "cell_type": "code",
      "source": [],
      "metadata": {
        "id": "t5VgJblz1Lwj"
      },
      "execution_count": null,
      "outputs": []
    }
  ]
}