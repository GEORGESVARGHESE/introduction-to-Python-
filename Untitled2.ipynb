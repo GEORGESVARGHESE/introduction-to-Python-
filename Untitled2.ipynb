{
  "nbformat": 4,
  "nbformat_minor": 0,
  "metadata": {
    "colab": {
      "provenance": [],
      "authorship_tag": "ABX9TyO5joHr03opO66w1BbH2ltB",
      "include_colab_link": true
    },
    "kernelspec": {
      "name": "python3",
      "display_name": "Python 3"
    },
    "language_info": {
      "name": "python"
    }
  },
  "cells": [
    {
      "cell_type": "markdown",
      "metadata": {
        "id": "view-in-github",
        "colab_type": "text"
      },
      "source": [
        "<a href=\"https://colab.research.google.com/github/GEORGESVARGHESE/introduction-to-Python-/blob/main/Untitled2.ipynb\" target=\"_parent\"><img src=\"https://colab.research.google.com/assets/colab-badge.svg\" alt=\"Open In Colab\"/></a>"
      ]
    },
    {
      "cell_type": "code",
      "execution_count": null,
      "metadata": {
        "id": "6-NoF2aRqKgp"
      },
      "outputs": [],
      "source": [
        "def george ():\n",
        "  print(\"hello world\")"
      ]
    },
    {
      "cell_type": "code",
      "source": [
        "george()"
      ],
      "metadata": {
        "colab": {
          "base_uri": "https://localhost:8080/"
        },
        "id": "X7Itohe9snSo",
        "outputId": "90d2be15-64a6-442e-a30c-242322716256"
      },
      "execution_count": null,
      "outputs": [
        {
          "output_type": "stream",
          "name": "stdout",
          "text": [
            "hello world\n"
          ]
        }
      ]
    },
    {
      "cell_type": "code",
      "source": [
        "def add(x,y):\n",
        "  z=x+y\n",
        "  print(\"result=\",z)"
      ],
      "metadata": {
        "id": "Fsrb2zGLsyPg"
      },
      "execution_count": null,
      "outputs": []
    },
    {
      "cell_type": "code",
      "source": [
        "add(2,8)"
      ],
      "metadata": {
        "colab": {
          "base_uri": "https://localhost:8080/"
        },
        "id": "faAUopyAvShR",
        "outputId": "316dd7d1-bc97-411d-8379-89afe0d16ead"
      },
      "execution_count": null,
      "outputs": [
        {
          "output_type": "stream",
          "name": "stdout",
          "text": [
            "result= 10\n"
          ]
        }
      ]
    },
    {
      "cell_type": "code",
      "source": [
        "def sub(x,y):\n",
        "  z=x-y\n",
        "  print(\"result=\",z)"
      ],
      "metadata": {
        "id": "aCXq-jNvvWQx"
      },
      "execution_count": null,
      "outputs": []
    },
    {
      "cell_type": "code",
      "source": [
        "sub(4,1)"
      ],
      "metadata": {
        "colab": {
          "base_uri": "https://localhost:8080/"
        },
        "id": "N8lRsUnqvk6L",
        "outputId": "13e48f22-18a2-4be9-8b03-a5d3197c3b41"
      },
      "execution_count": null,
      "outputs": [
        {
          "output_type": "stream",
          "name": "stdout",
          "text": [
            "result= 3\n"
          ]
        }
      ]
    },
    {
      "cell_type": "code",
      "source": [
        "def sal(x):\n",
        "  if x>250000:\n",
        "    print(\"you are taxable\")\n",
        "  if x<250000:\n",
        "    print(\"you are not taxable\")"
      ],
      "metadata": {
        "id": "K3KO8vZivpyy"
      },
      "execution_count": null,
      "outputs": []
    },
    {
      "cell_type": "code",
      "source": [
        "salary=int(input(\"enter your salary \"))\n",
        "sal(salary)"
      ],
      "metadata": {
        "colab": {
          "base_uri": "https://localhost:8080/"
        },
        "id": "K0y3DFTyw8IK",
        "outputId": "d858b8e6-ecd9-400c-a376-f8ecdaefd55b"
      },
      "execution_count": null,
      "outputs": [
        {
          "output_type": "stream",
          "name": "stdout",
          "text": [
            "enter your salary 300000\n",
            "you are taxable\n"
          ]
        }
      ]
    },
    {
      "cell_type": "code",
      "source": [
        "def add(x):\n",
        "  k=0\n",
        "  for i in range (x):\n",
        "    k=k+x\n",
        "  print(k)"
      ],
      "metadata": {
        "id": "NmPL6lyOzBFu"
      },
      "execution_count": null,
      "outputs": []
    },
    {
      "cell_type": "code",
      "source": [
        "value=int(input(\"enter the value \"))\n",
        "add(value)"
      ],
      "metadata": {
        "colab": {
          "base_uri": "https://localhost:8080/"
        },
        "id": "DbuATTJl5Lyz",
        "outputId": "2b3abe0f-96bc-4ce9-d68b-68390d79adf6"
      },
      "execution_count": null,
      "outputs": [
        {
          "output_type": "stream",
          "name": "stdout",
          "text": [
            "enter the value 10\n",
            "100\n"
          ]
        }
      ]
    },
    {
      "cell_type": "code",
      "source": [],
      "metadata": {
        "id": "UcR9DINT5apn"
      },
      "execution_count": null,
      "outputs": []
    }
  ]
}