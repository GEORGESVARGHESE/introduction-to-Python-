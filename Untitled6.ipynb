{
  "nbformat": 4,
  "nbformat_minor": 0,
  "metadata": {
    "colab": {
      "provenance": [],
      "authorship_tag": "ABX9TyOMJptiOUcs26bbzTRcjiVF",
      "include_colab_link": true
    },
    "kernelspec": {
      "name": "python3",
      "display_name": "Python 3"
    },
    "language_info": {
      "name": "python"
    }
  },
  "cells": [
    {
      "cell_type": "markdown",
      "metadata": {
        "id": "view-in-github",
        "colab_type": "text"
      },
      "source": [
        "<a href=\"https://colab.research.google.com/github/GEORGESVARGHESE/introduction-to-Python-/blob/main/Untitled6.ipynb\" target=\"_parent\"><img src=\"https://colab.research.google.com/assets/colab-badge.svg\" alt=\"Open In Colab\"/></a>"
      ]
    },
    {
      "cell_type": "code",
      "execution_count": 2,
      "metadata": {
        "colab": {
          "base_uri": "https://localhost:8080/"
        },
        "id": "omDF76HKrahj",
        "outputId": "db7e4414-4f3a-4cd7-e983-8fc43a00b012"
      },
      "outputs": [
        {
          "output_type": "stream",
          "name": "stdout",
          "text": [
            " enter the number 99\n",
            "99\n",
            "198\n",
            "297\n",
            "396\n",
            "495\n",
            "594\n",
            "693\n",
            "792\n",
            "891\n",
            "990\n"
          ]
        }
      ],
      "source": [
        "num=int(input(\" enter the number \"))\n",
        "for i in range(1,11):\n",
        "  print(i*num)"
      ]
    },
    {
      "cell_type": "code",
      "source": [
        "num=int(input(\" enter the number \"))\n",
        "for i in range(1,11):\n",
        "  print(num,\"x\",i,\"=\",num*i)"
      ],
      "metadata": {
        "colab": {
          "base_uri": "https://localhost:8080/"
        },
        "id": "FAPEZvituQSq",
        "outputId": "81fe2eec-a8c7-4129-92f6-a0a8a40c3cfe"
      },
      "execution_count": 4,
      "outputs": [
        {
          "output_type": "stream",
          "name": "stdout",
          "text": [
            " enter the number 55\n",
            "55 x 1 = 55\n",
            "55 x 2 = 110\n",
            "55 x 3 = 165\n",
            "55 x 4 = 220\n",
            "55 x 5 = 275\n",
            "55 x 6 = 330\n",
            "55 x 7 = 385\n",
            "55 x 8 = 440\n",
            "55 x 9 = 495\n",
            "55 x 10 = 550\n"
          ]
        }
      ]
    },
    {
      "cell_type": "code",
      "source": [
        "x=input(\" enter the number \")\n",
        "k=0\n",
        "for a in x:\n",
        "    k=(k+1)\n",
        "print(k)"
      ],
      "metadata": {
        "colab": {
          "base_uri": "https://localhost:8080/"
        },
        "id": "ox6ikCOWu54r",
        "outputId": "b580c140-0ddb-4065-9a7f-6d69b4c51932"
      },
      "execution_count": 7,
      "outputs": [
        {
          "output_type": "stream",
          "name": "stdout",
          "text": [
            " enter the number 345\n",
            "3\n"
          ]
        }
      ]
    },
    {
      "cell_type": "code",
      "source": [
        "num=int(input(\"enter any number\"))\n",
        "k=1\n",
        "while k<=10:\n",
        "  print(num*k)\n",
        "  k=k+1"
      ],
      "metadata": {
        "colab": {
          "base_uri": "https://localhost:8080/"
        },
        "id": "dJlurhAkw4lj",
        "outputId": "725180d6-0c43-4845-f7c4-7529218b4e09"
      },
      "execution_count": 10,
      "outputs": [
        {
          "output_type": "stream",
          "name": "stdout",
          "text": [
            "enter any number4\n",
            "4\n",
            "8\n",
            "12\n",
            "16\n",
            "20\n",
            "24\n",
            "28\n",
            "32\n",
            "36\n",
            "40\n"
          ]
        }
      ]
    },
    {
      "cell_type": "code",
      "source": [
        "string = input('Enter any word: ')\n",
        "rev = string[::-1]\n",
        "if string == rev:\n",
        "  print(string, 'is a palindrom')\n",
        "else:\n",
        "  print(string, 'is not a palindorm')"
      ],
      "metadata": {
        "colab": {
          "base_uri": "https://localhost:8080/"
        },
        "id": "ZfzyQkdXy2HI",
        "outputId": "c0234b8d-8900-4a17-861f-7591fe498a1c"
      },
      "execution_count": 11,
      "outputs": [
        {
          "output_type": "stream",
          "name": "stdout",
          "text": [
            "Enter any word: malayalam\n",
            "malayalam is a palindrom\n"
          ]
        }
      ]
    },
    {
      "cell_type": "markdown",
      "source": [],
      "metadata": {
        "id": "0uogKQJBBzRN"
      }
    },
    {
      "cell_type": "code",
      "source": [
        "english = int(input('Enter english marks: '))\n",
        "ip = int(input('Enter ip marks: '))\n",
        "language = int(input('Enter language marks: '))\n",
        "economics = int(input('Enter economics marks: '))\n",
        "business = int(input('Enter business marks: '))\n",
        "\n",
        "print(' ')\n",
        "\n",
        "marks = [english, ip , language, economics, business]\n",
        "minimum = min(marks)\n",
        "maximum = max(marks)\n",
        "average = sum(marks)/5 \n",
        "rounded = round(average,3)\n",
        "\n",
        "print('minimum mark = ', minimum)\n",
        "print('maximum mark = ', maximum)\n",
        "print('average mark = ', average)\n",
        "print('rounded average = ', rounded)\n"
      ],
      "metadata": {
        "colab": {
          "base_uri": "https://localhost:8080/"
        },
        "id": "6Z7YdQKb5z7u",
        "outputId": "5c524d94-caaa-4e08-93b6-63a5da3e4462"
      },
      "execution_count": 14,
      "outputs": [
        {
          "output_type": "stream",
          "name": "stdout",
          "text": [
            "Enter english marks: 67\n",
            "Enter ip marks: 74\n",
            "Enter language marks: 58\n",
            "Enter economics marks: 72\n",
            "Enter business marks: 66\n",
            " \n",
            "minimum mark =  58\n",
            "maximum mark =  74\n",
            "average mark =  67.4\n",
            "rounded average =  67.4\n"
          ]
        }
      ]
    },
    {
      "cell_type": "code",
      "source": [],
      "metadata": {
        "id": "xKYSQ1fKBAKU"
      },
      "execution_count": null,
      "outputs": []
    }
  ]
}