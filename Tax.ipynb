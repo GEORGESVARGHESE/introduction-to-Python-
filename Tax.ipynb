{
  "nbformat": 4,
  "nbformat_minor": 0,
  "metadata": {
    "colab": {
      "provenance": [],
      "authorship_tag": "ABX9TyPusMQPtCOcXZmkJ83tPX9Y",
      "include_colab_link": true
    },
    "kernelspec": {
      "name": "python3",
      "display_name": "Python 3"
    },
    "language_info": {
      "name": "python"
    }
  },
  "cells": [
    {
      "cell_type": "markdown",
      "metadata": {
        "id": "view-in-github",
        "colab_type": "text"
      },
      "source": [
        "<a href=\"https://colab.research.google.com/github/GEORGESVARGHESE/introduction-to-Python-/blob/main/Tax.ipynb\" target=\"_parent\"><img src=\"https://colab.research.google.com/assets/colab-badge.svg\" alt=\"Open In Colab\"/></a>"
      ]
    },
    {
      "cell_type": "code",
      "execution_count": 1,
      "metadata": {
        "colab": {
          "base_uri": "https://localhost:8080/"
        },
        "id": "lWruiaZQd46c",
        "outputId": "138532b2-c391-49de-9cc5-bfb8c0f5bc6c"
      },
      "outputs": [
        {
          "name": "stdout",
          "output_type": "stream",
          "text": [
            "50\n"
          ]
        }
      ],
      "source": [
        "mark=int(input())"
      ]
    },
    {
      "cell_type": "code",
      "source": [
        "mark=int(input())\n",
        "if mark > 50:\n",
        "  print(\"you are passed\")\n",
        "if mark == 50:\n",
        "  print(\"you are just pass\")\n",
        "if mark < 50:\n",
        "  print(\"you are failed\")"
      ],
      "metadata": {
        "colab": {
          "base_uri": "https://localhost:8080/"
        },
        "id": "mxvqU33lhD83",
        "outputId": "150bc8a0-eaf7-482b-d0d7-8bd9ab8abbc7"
      },
      "execution_count": 2,
      "outputs": [
        {
          "output_type": "stream",
          "name": "stdout",
          "text": [
            "98\n",
            "you are passed\n"
          ]
        }
      ]
    },
    {
      "cell_type": "code",
      "source": [
        "salary = int(input())\n",
        "if salary >= 250000:\n",
        "  print(\"you are taxable\")\n",
        "  print(salary*(10/100))\n",
        "else:\n",
        "  print(\"you are not taxable\")"
      ],
      "metadata": {
        "colab": {
          "base_uri": "https://localhost:8080/"
        },
        "id": "EzxBwoUfjTGD",
        "outputId": "325ba3ba-7df4-4f23-9c79-2652d1603530"
      },
      "execution_count": 3,
      "outputs": [
        {
          "output_type": "stream",
          "name": "stdout",
          "text": [
            "259866\n",
            "you are taxable\n",
            "25986.600000000002\n"
          ]
        }
      ]
    },
    {
      "cell_type": "code",
      "source": [
        "salary = int(input())\n",
        "if salary >= 250000:\n",
        "  print(\"you are taxable\")\n",
        "  print((salary-250000)*(10/100))\n",
        "else:\n",
        "  print(\"you are not taxable\")"
      ],
      "metadata": {
        "colab": {
          "base_uri": "https://localhost:8080/"
        },
        "id": "Wc3ycJpGok_B",
        "outputId": "86a44633-e06c-4b6e-e3e2-18759a04c14a"
      },
      "execution_count": 4,
      "outputs": [
        {
          "output_type": "stream",
          "name": "stdout",
          "text": [
            "5374586\n",
            "you are taxable\n",
            "512458.60000000003\n"
          ]
        }
      ]
    },
    {
      "cell_type": "code",
      "source": [
        "salary = int(input())\n",
        "if salary >= 250000 and salary < 500000:\n",
        "  print(\"you are taxable\")\n",
        "  print(salary*(10/100))\n",
        "if salary > 500000:\n",
        "  print(\"you are taxable\")\n",
        "  print(salary*(20/100))\n",
        "else:\n",
        "  print(\"you are not taxable\")"
      ],
      "metadata": {
        "colab": {
          "base_uri": "https://localhost:8080/"
        },
        "id": "kzzErPiZpWC_",
        "outputId": "c68a23d8-2179-43f7-beed-a814b7a6c54c"
      },
      "execution_count": 5,
      "outputs": [
        {
          "output_type": "stream",
          "name": "stdout",
          "text": [
            "227675906\n",
            "you are taxable\n",
            "45535181.2\n"
          ]
        }
      ]
    },
    {
      "cell_type": "code",
      "source": [
        "salary = int(input())\n",
        "if salary >= 250000 and salary < 500000:\n",
        "  print(\"you are taxable\")\n",
        "  print((salary-250000)*(10/100))\n",
        "if salary > 500000:\n",
        "  print(\"you are taxable\")\n",
        "  print((salary-250000)*(20/100))\n",
        "else:\n",
        "  print(\"you are not taxable\")"
      ],
      "metadata": {
        "colab": {
          "base_uri": "https://localhost:8080/"
        },
        "id": "Qo52gC4Vr2_V",
        "outputId": "de5b7a7f-7128-452f-ed74-c2f709f240b7"
      },
      "execution_count": 6,
      "outputs": [
        {
          "output_type": "stream",
          "name": "stdout",
          "text": [
            "645237900\n",
            "you are taxable\n",
            "128997580.0\n"
          ]
        }
      ]
    },
    {
      "cell_type": "code",
      "source": [],
      "metadata": {
        "id": "Z-Afd9aivaDs"
      },
      "execution_count": 6,
      "outputs": []
    }
  ]
}